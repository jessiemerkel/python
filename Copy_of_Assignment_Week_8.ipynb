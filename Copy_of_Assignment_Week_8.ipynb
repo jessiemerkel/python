{
  "nbformat": 4,
  "nbformat_minor": 0,
  "metadata": {
    "colab": {
      "name": "Copy of Assignment Week 8.ipynb",
      "provenance": [],
      "include_colab_link": true
    },
    "kernelspec": {
      "name": "python3",
      "display_name": "Python 3"
    }
  },
  "cells": [
    {
      "cell_type": "markdown",
      "metadata": {
        "id": "view-in-github",
        "colab_type": "text"
      },
      "source": [
        "<a href=\"https://colab.research.google.com/github/jessiemerkel/python/blob/master/Copy_of_Assignment_Week_8.ipynb\" target=\"_parent\"><img src=\"https://colab.research.google.com/assets/colab-badge.svg\" alt=\"Open In Colab\"/></a>"
      ]
    },
    {
      "cell_type": "markdown",
      "metadata": {
        "id": "HXo3qEu-6hUj"
      },
      "source": [
        "**A WORD GUESSING GAME: HANGMAN**\n",
        "\n",
        "For week 8 and 9, your assignment is to implement the word guessing game called Hangman.\n",
        "\n",
        "As we discussed in the group meetings last week, your goal is to write a  Python that picks a word and runs the game for the user. Then the user should be able to guess letters by typing at the keyboard. Your program will then tell the user whether the letter guessed is in the word. You will repeat this process until the guesses the whole word or until the user loses and runs out of guesses. "
      ]
    },
    {
      "cell_type": "markdown",
      "metadata": {
        "id": "laIlOvJB7gxb"
      },
      "source": [
        "This project is a bit more difficult than anything we have done so far. Therefore, you have until the end of Week 9 to finish the assignment. \n",
        "\n",
        "I believe that the best way to make progress on this type of project is to break it into manageable chunks and get each chunk working before moving onto the next. \n",
        "\n",
        "The worksheet has some helpful examples and can be found here: https://colab.research.google.com/github/mlepinski/Python-Worksheets/blob/master/Week_8_Worksheet.ipynb\n",
        "\n",
        "The instructions here suggest particular design choices. Feel free to be creative and make adjustments as needed. As long as you get a working hangman game, I am happy. "
      ]
    },
    {
      "cell_type": "markdown",
      "metadata": {
        "id": "6pyQqC1078RX"
      },
      "source": [
        "**0)** First, you need a word. To start with, write a function called **choose_word** that just returns \"balloon\". (You can use another word if you want to, but balloon is a reasonable choice.)\n",
        "\n",
        "Eventually, you will want to have a more clever way to pick a word. However, if you write the rest of your code to just ask **choose_word** for a word, you can get things working with a boring **choose_word** function. Then you can later change the code of **choose_word** to do something more interesting and you won't have to change the rest of your program. \n",
        "\n",
        "**1)** Next you need to display the blanks to the user. (I believe the easiest way to do this is to make a list of blanks. You can find some helpful examples in the worksheet)\n",
        "\n",
        "**2)** Next you need to ask the user for a letter. (Just asking for a letter should be easy)\n",
        "\n",
        "**3)** Next you need to handle the case where the user guesses wrong. (I think it is easiest to keep track of the number of wrong guesses and then have a function **print_body** that takes as input the number of wrong guesses and prints the appropriate number of body parts. You can find some helpful example code in the worksheet)\n",
        "\n",
        "**4)** Next you need to handle the case where the user guesses correctly. (This requires you to find the location of the letter in the secret word and then change a blank into a letter. The worksheet has some examples that may be helpful.)\n",
        "\n",
        "**5)** Now you want to take what you have done and put it into a loop. I suggest a **while** loop. (You will want to leave the loop when the game is over. That is, when the user gets too many wrong guesses -- runs out of body parts -- or when the user correctly guesses the entire word)\n",
        "\n",
        "**6)** Now it is time to go back and change **choose_word**. I believe that a reasonable solution is to randomly select a word from a list of possible words (or phrases?) ... It would be even better if these possible words were stored in a separate file so that you can change the possible words without changing your program. (The worksheet has a helpful example of using Python to read an external file.)\n",
        "\n",
        "**7)** Look back at your program and see if there is any way that you can add polish or improve the use experience. Maybe it would be helpful to print out the wrong guesses that the user has made to help them avoid making the same wrong guess twice. Maybe you can print out things a little bit more nicely for the user. Maybe you could add a helpful error message if the user enters something that is not a letter when guesses. \n",
        "\n",
        "This problem is just asking to you to look back critically at your program and see if there is something that you can do to make it into a nicer finished project."
      ]
    },
    {
      "cell_type": "code",
      "metadata": {
        "id": "v2pYkC4Q3HS3",
        "outputId": "27a02f50-b31c-4ff3-b168-ac58d0ea19f7",
        "colab": {
          "base_uri": "https://localhost:8080/",
          "height": 35
        }
      },
      "source": [
        "def choose_word():\n",
        "  return \"balloon\"\n",
        "choose_word()"
      ],
      "execution_count": null,
      "outputs": [
        {
          "output_type": "execute_result",
          "data": {
            "application/vnd.google.colaboratory.intrinsic+json": {
              "type": "string"
            },
            "text/plain": [
              "'balloon'"
            ]
          },
          "metadata": {
            "tags": []
          },
          "execution_count": 2
        }
      ]
    },
    {
      "cell_type": "code",
      "metadata": {
        "id": "8Vr7GkNP3w_c",
        "outputId": "a5783886-80e9-4b06-d11d-580388f57dbf",
        "colab": {
          "base_uri": "https://localhost:8080/",
          "height": 34
        }
      },
      "source": [
        "blank_list = [choose_word()]\n",
        "length = len(choose_word())\n",
        "for spaces in range(length):\n",
        "  blank_list.append(\"_\")\n",
        "blank_list.remove(choose_word())\n",
        "print(blank_list)"
      ],
      "execution_count": null,
      "outputs": [
        {
          "output_type": "stream",
          "text": [
            "['_', '_', '_', '_', '_', '_', '_']\n"
          ],
          "name": "stdout"
        }
      ]
    },
    {
      "cell_type": "code",
      "metadata": {
        "id": "wAv6rexdE2oU",
        "outputId": "9dd7bf1b-ac56-4199-f9cc-3b91e12c8a94",
        "colab": {
          "base_uri": "https://localhost:8080/",
          "height": 51
        }
      },
      "source": [
        "letter_guess = input(\"enter a letter: \").lower()\n",
        "print(letter_guess)"
      ],
      "execution_count": null,
      "outputs": [
        {
          "output_type": "stream",
          "text": [
            "enter a letter: G\n",
            "g\n"
          ],
          "name": "stdout"
        }
      ]
    },
    {
      "cell_type": "code",
      "metadata": {
        "id": "4RFILeaHF25b",
        "outputId": "0f7bb528-0b6a-4c3d-faa8-be678702bf2c",
        "colab": {
          "base_uri": "https://localhost:8080/",
          "height": 85
        }
      },
      "source": [
        "def print_body(number):\n",
        "  if number == 1:\n",
        "    print(\"  (X)  \")\n",
        "  if number == 2:\n",
        "    print(\"  (X)  \")\n",
        "    print(\"   |   \")\n",
        "    print(\"   |   \")\n",
        "  if number == 3:\n",
        "    print(\"  (X)  \")\n",
        "    print(\"  /|   \")\n",
        "    print(\" / |   \")\n",
        "  if number == 4:\n",
        "    print(\"  (X)  \")\n",
        "    print(\"  /|\\  \")\n",
        "    print(\" / | \\ \")\n",
        "  if number == 5:\n",
        "    print(\"  (X)  \")\n",
        "    print(\"  /|\\  \")\n",
        "    print(\" / | \\ \")\n",
        "    print(\"  /    \")\n",
        "    print(\" /     \")\n",
        "  if number == 6:\n",
        "    print(\"  (X)  \")\n",
        "    print(\"  /|\\  \")\n",
        "    print(\" / | \\ \")\n",
        "    print(\"  / \\  \")\n",
        "    print(\" /   \\ \")\n",
        "\n",
        "word_list = list(choose_word())\n",
        "print(word_list)\n",
        "count = 0\n",
        "\n",
        "letter_guess = input(\"enter a letter: \").lower()\n",
        "\n",
        "if not letter_guess in word_list:\n",
        "  print(\"uh oh you fucked up\")\n",
        "  count = count + 1 \n",
        "  print_body(count)"
      ],
      "execution_count": null,
      "outputs": [
        {
          "output_type": "stream",
          "text": [
            "['b', 'a', 'l', 'l', 'o', 'o', 'n']\n",
            "enter a letter: G\n",
            "uh oh you fucked up\n",
            "  (X)  \n"
          ],
          "name": "stdout"
        }
      ]
    },
    {
      "cell_type": "code",
      "metadata": {
        "id": "jB3ngbpTAL2v"
      },
      "source": [
        "print(blank_list)\n",
        "letter_guess = input(\"enter a letter: \").lower()\n",
        "if letter_guess in word_list:\n",
        "  letter_spot = choose_word().index(letter_guess)\n",
        "  blank_list.append(letter_guess) "
      ],
      "execution_count": null,
      "outputs": []
    },
    {
      "cell_type": "code",
      "metadata": {
        "id": "H2OZPnhCXjoe",
        "outputId": "c0c7e8f7-a539-4743-fa32-62de13f8fc50",
        "colab": {
          "base_uri": "https://localhost:8080/",
          "height": 34
        }
      },
      "source": [
        "import random \n",
        "\n",
        "word_list = [\"eevee\", \"flareon\", \"jolteon\", \"vaporeon\", \"umbreon\", \"espeon\", \"leafeon\", \"glaceon\", \"sylveon\"]\n",
        "the_word = random.choice(word_list)\n",
        "print(the_word)"
      ],
      "execution_count": 9,
      "outputs": [
        {
          "output_type": "stream",
          "text": [
            "sylveon\n"
          ],
          "name": "stdout"
        }
      ]
    },
    {
      "cell_type": "code",
      "metadata": {
        "id": "dNYsywpwYZ14",
        "outputId": "57652176-22fa-4f14-9157-533f868d2d29",
        "colab": {
          "base_uri": "https://localhost:8080/",
          "height": 766
        }
      },
      "source": [
        "def choose_word():\n",
        "  return \"balloon\"\n",
        "\n",
        "print(\"hello and welcome to the hangman game! You're allowed 6 incorrect guesses before you lose the game! Goodluck!! \")\n",
        "\n",
        "blank_list = [choose_word()]\n",
        "length = len(choose_word())\n",
        "for spaces in range(length):\n",
        "  blank_list.append(\"_\")\n",
        "blank_list.remove(choose_word())\n",
        "\n",
        "\n",
        "print(\"the first word is\", blank_list)\n",
        "\n",
        "def print_body(number):\n",
        "  if number == 1:\n",
        "    print(\"you have 5 body parts left\")\n",
        "    print(\"  (X)  \")\n",
        "  if number == 2:\n",
        "    print(\"you have 4 body parts left\")\n",
        "    print(\"  (X)  \")\n",
        "    print(\"   |   \")\n",
        "    print(\"   |   \")\n",
        "  if number == 3:\n",
        "    print(\"you have 3 body parts left\")\n",
        "    print(\"  (X)  \")\n",
        "    print(\"  /|   \")\n",
        "    print(\" / |   \")\n",
        "  if number == 4:\n",
        "    print(\"you have 2 body parts left\")\n",
        "    print(\"  (X)  \")\n",
        "    print(\"  /|\\  \")\n",
        "    print(\" / | \\ \")\n",
        "  if number == 5:\n",
        "    print(\"you have 1 body parts left\")\n",
        "    print(\"  (X)  \")\n",
        "    print(\"  /|\\  \")\n",
        "    print(\" / | \\ \")\n",
        "    print(\"  /    \")\n",
        "    print(\" /     \")\n",
        "  if number == 6:\n",
        "    print(\"you have no body parts left\")\n",
        "    print(\"  (X)  \")\n",
        "    print(\"  /|\\  \")\n",
        "    print(\" / | \\ \")\n",
        "    print(\"  / \\  \")\n",
        "    print(\" /   \\ \")\n",
        "  return number\n",
        "\n",
        "number = 0\n",
        "word_list = list(choose_word())\n",
        "\n",
        "while print_body(number) != 6:\n",
        "  letter_guess = input(\"enter a letter: \").lower()\n",
        "  placement = []\n",
        "  guess = letter_guess\n",
        "  for x in range(len(word_list)):\n",
        "    if word_list[x] == guess:\n",
        "      placement.append(x)\n",
        "  for x in placement:\n",
        "    blank_list[x] = guess\n",
        "\n",
        "  if letter_guess in word_list:\n",
        "    position_of_letter = word_list.index(letter_guess)\n",
        "    blank_list[position_of_letter] = letter_guess\n",
        "    stringBlanks = ''                           \n",
        "    stringBlanks = stringBlanks.join(blank_list)\n",
        "    print(stringBlanks)\n",
        "\n",
        "  if not letter_guess in word_list:\n",
        "    print(\"that letter isn't in the word.\")\n",
        "    number = number + 1 \n",
        "  \n",
        "if number == 6:\n",
        "  print(\"you have lost\")"
      ],
      "execution_count": 7,
      "outputs": [
        {
          "output_type": "stream",
          "text": [
            "hello and welcome to the hangman game! You're allowed 6 incorrect guesses before you lose the game! Goodluck!! \n",
            "the first word is ['_', '_', '_', '_', '_', '_', '_']\n",
            "enter a letter: l\n",
            "__ll___\n",
            "enter a letter: p\n",
            "that letter isn't in the word.\n",
            "you have 5 body parts left\n",
            "  (X)  \n",
            "enter a letter: j\n",
            "that letter isn't in the word.\n",
            "you have 4 body parts left\n",
            "  (X)  \n",
            "   |   \n",
            "   |   \n"
          ],
          "name": "stdout"
        },
        {
          "output_type": "error",
          "ename": "KeyboardInterrupt",
          "evalue": "ignored",
          "traceback": [
            "\u001b[0;31m---------------------------------------------------------------------------\u001b[0m",
            "\u001b[0;31mKeyboardInterrupt\u001b[0m                         Traceback (most recent call last)",
            "\u001b[0;32m/usr/local/lib/python3.6/dist-packages/ipykernel/kernelbase.py\u001b[0m in \u001b[0;36m_input_request\u001b[0;34m(self, prompt, ident, parent, password)\u001b[0m\n\u001b[1;32m    728\u001b[0m             \u001b[0;32mtry\u001b[0m\u001b[0;34m:\u001b[0m\u001b[0;34m\u001b[0m\u001b[0;34m\u001b[0m\u001b[0m\n\u001b[0;32m--> 729\u001b[0;31m                 \u001b[0mident\u001b[0m\u001b[0;34m,\u001b[0m \u001b[0mreply\u001b[0m \u001b[0;34m=\u001b[0m \u001b[0mself\u001b[0m\u001b[0;34m.\u001b[0m\u001b[0msession\u001b[0m\u001b[0;34m.\u001b[0m\u001b[0mrecv\u001b[0m\u001b[0;34m(\u001b[0m\u001b[0mself\u001b[0m\u001b[0;34m.\u001b[0m\u001b[0mstdin_socket\u001b[0m\u001b[0;34m,\u001b[0m \u001b[0;36m0\u001b[0m\u001b[0;34m)\u001b[0m\u001b[0;34m\u001b[0m\u001b[0;34m\u001b[0m\u001b[0m\n\u001b[0m\u001b[1;32m    730\u001b[0m             \u001b[0;32mexcept\u001b[0m \u001b[0mException\u001b[0m\u001b[0;34m:\u001b[0m\u001b[0;34m\u001b[0m\u001b[0;34m\u001b[0m\u001b[0m\n",
            "\u001b[0;32m/usr/local/lib/python3.6/dist-packages/jupyter_client/session.py\u001b[0m in \u001b[0;36mrecv\u001b[0;34m(self, socket, mode, content, copy)\u001b[0m\n\u001b[1;32m    802\u001b[0m         \u001b[0;32mtry\u001b[0m\u001b[0;34m:\u001b[0m\u001b[0;34m\u001b[0m\u001b[0;34m\u001b[0m\u001b[0m\n\u001b[0;32m--> 803\u001b[0;31m             \u001b[0mmsg_list\u001b[0m \u001b[0;34m=\u001b[0m \u001b[0msocket\u001b[0m\u001b[0;34m.\u001b[0m\u001b[0mrecv_multipart\u001b[0m\u001b[0;34m(\u001b[0m\u001b[0mmode\u001b[0m\u001b[0;34m,\u001b[0m \u001b[0mcopy\u001b[0m\u001b[0;34m=\u001b[0m\u001b[0mcopy\u001b[0m\u001b[0;34m)\u001b[0m\u001b[0;34m\u001b[0m\u001b[0;34m\u001b[0m\u001b[0m\n\u001b[0m\u001b[1;32m    804\u001b[0m         \u001b[0;32mexcept\u001b[0m \u001b[0mzmq\u001b[0m\u001b[0;34m.\u001b[0m\u001b[0mZMQError\u001b[0m \u001b[0;32mas\u001b[0m \u001b[0me\u001b[0m\u001b[0;34m:\u001b[0m\u001b[0;34m\u001b[0m\u001b[0;34m\u001b[0m\u001b[0m\n",
            "\u001b[0;32m/usr/local/lib/python3.6/dist-packages/zmq/sugar/socket.py\u001b[0m in \u001b[0;36mrecv_multipart\u001b[0;34m(self, flags, copy, track)\u001b[0m\n\u001b[1;32m    490\u001b[0m         \"\"\"\n\u001b[0;32m--> 491\u001b[0;31m         \u001b[0mparts\u001b[0m \u001b[0;34m=\u001b[0m \u001b[0;34m[\u001b[0m\u001b[0mself\u001b[0m\u001b[0;34m.\u001b[0m\u001b[0mrecv\u001b[0m\u001b[0;34m(\u001b[0m\u001b[0mflags\u001b[0m\u001b[0;34m,\u001b[0m \u001b[0mcopy\u001b[0m\u001b[0;34m=\u001b[0m\u001b[0mcopy\u001b[0m\u001b[0;34m,\u001b[0m \u001b[0mtrack\u001b[0m\u001b[0;34m=\u001b[0m\u001b[0mtrack\u001b[0m\u001b[0;34m)\u001b[0m\u001b[0;34m]\u001b[0m\u001b[0;34m\u001b[0m\u001b[0;34m\u001b[0m\u001b[0m\n\u001b[0m\u001b[1;32m    492\u001b[0m         \u001b[0;31m# have first part already, only loop while more to receive\u001b[0m\u001b[0;34m\u001b[0m\u001b[0;34m\u001b[0m\u001b[0;34m\u001b[0m\u001b[0m\n",
            "\u001b[0;32mzmq/backend/cython/socket.pyx\u001b[0m in \u001b[0;36mzmq.backend.cython.socket.Socket.recv\u001b[0;34m()\u001b[0m\n",
            "\u001b[0;32mzmq/backend/cython/socket.pyx\u001b[0m in \u001b[0;36mzmq.backend.cython.socket.Socket.recv\u001b[0;34m()\u001b[0m\n",
            "\u001b[0;32mzmq/backend/cython/socket.pyx\u001b[0m in \u001b[0;36mzmq.backend.cython.socket._recv_copy\u001b[0;34m()\u001b[0m\n",
            "\u001b[0;32m/usr/local/lib/python3.6/dist-packages/zmq/backend/cython/checkrc.pxd\u001b[0m in \u001b[0;36mzmq.backend.cython.checkrc._check_rc\u001b[0;34m()\u001b[0m\n",
            "\u001b[0;31mKeyboardInterrupt\u001b[0m: ",
            "\nDuring handling of the above exception, another exception occurred:\n",
            "\u001b[0;31mKeyboardInterrupt\u001b[0m                         Traceback (most recent call last)",
            "\u001b[0;32m<ipython-input-7-ddef9425de40>\u001b[0m in \u001b[0;36m<module>\u001b[0;34m()\u001b[0m\n\u001b[1;32m     52\u001b[0m \u001b[0;34m\u001b[0m\u001b[0m\n\u001b[1;32m     53\u001b[0m \u001b[0;32mwhile\u001b[0m \u001b[0mprint_body\u001b[0m\u001b[0;34m(\u001b[0m\u001b[0mnumber\u001b[0m\u001b[0;34m)\u001b[0m \u001b[0;34m!=\u001b[0m \u001b[0;36m6\u001b[0m\u001b[0;34m:\u001b[0m\u001b[0;34m\u001b[0m\u001b[0;34m\u001b[0m\u001b[0m\n\u001b[0;32m---> 54\u001b[0;31m   \u001b[0mletter_guess\u001b[0m \u001b[0;34m=\u001b[0m \u001b[0minput\u001b[0m\u001b[0;34m(\u001b[0m\u001b[0;34m\"enter a letter: \"\u001b[0m\u001b[0;34m)\u001b[0m\u001b[0;34m.\u001b[0m\u001b[0mlower\u001b[0m\u001b[0;34m(\u001b[0m\u001b[0;34m)\u001b[0m\u001b[0;34m\u001b[0m\u001b[0;34m\u001b[0m\u001b[0m\n\u001b[0m\u001b[1;32m     55\u001b[0m   \u001b[0mplacement\u001b[0m \u001b[0;34m=\u001b[0m \u001b[0;34m[\u001b[0m\u001b[0;34m]\u001b[0m\u001b[0;34m\u001b[0m\u001b[0;34m\u001b[0m\u001b[0m\n\u001b[1;32m     56\u001b[0m   \u001b[0mguess\u001b[0m \u001b[0;34m=\u001b[0m \u001b[0mletter_guess\u001b[0m\u001b[0;34m\u001b[0m\u001b[0;34m\u001b[0m\u001b[0m\n",
            "\u001b[0;32m/usr/local/lib/python3.6/dist-packages/ipykernel/kernelbase.py\u001b[0m in \u001b[0;36mraw_input\u001b[0;34m(self, prompt)\u001b[0m\n\u001b[1;32m    702\u001b[0m             \u001b[0mself\u001b[0m\u001b[0;34m.\u001b[0m\u001b[0m_parent_ident\u001b[0m\u001b[0;34m,\u001b[0m\u001b[0;34m\u001b[0m\u001b[0;34m\u001b[0m\u001b[0m\n\u001b[1;32m    703\u001b[0m             \u001b[0mself\u001b[0m\u001b[0;34m.\u001b[0m\u001b[0m_parent_header\u001b[0m\u001b[0;34m,\u001b[0m\u001b[0;34m\u001b[0m\u001b[0;34m\u001b[0m\u001b[0m\n\u001b[0;32m--> 704\u001b[0;31m             \u001b[0mpassword\u001b[0m\u001b[0;34m=\u001b[0m\u001b[0;32mFalse\u001b[0m\u001b[0;34m,\u001b[0m\u001b[0;34m\u001b[0m\u001b[0;34m\u001b[0m\u001b[0m\n\u001b[0m\u001b[1;32m    705\u001b[0m         )\n\u001b[1;32m    706\u001b[0m \u001b[0;34m\u001b[0m\u001b[0m\n",
            "\u001b[0;32m/usr/local/lib/python3.6/dist-packages/ipykernel/kernelbase.py\u001b[0m in \u001b[0;36m_input_request\u001b[0;34m(self, prompt, ident, parent, password)\u001b[0m\n\u001b[1;32m    732\u001b[0m             \u001b[0;32mexcept\u001b[0m \u001b[0mKeyboardInterrupt\u001b[0m\u001b[0;34m:\u001b[0m\u001b[0;34m\u001b[0m\u001b[0;34m\u001b[0m\u001b[0m\n\u001b[1;32m    733\u001b[0m                 \u001b[0;31m# re-raise KeyboardInterrupt, to truncate traceback\u001b[0m\u001b[0;34m\u001b[0m\u001b[0;34m\u001b[0m\u001b[0;34m\u001b[0m\u001b[0m\n\u001b[0;32m--> 734\u001b[0;31m                 \u001b[0;32mraise\u001b[0m \u001b[0mKeyboardInterrupt\u001b[0m\u001b[0;34m\u001b[0m\u001b[0;34m\u001b[0m\u001b[0m\n\u001b[0m\u001b[1;32m    735\u001b[0m             \u001b[0;32melse\u001b[0m\u001b[0;34m:\u001b[0m\u001b[0;34m\u001b[0m\u001b[0;34m\u001b[0m\u001b[0m\n\u001b[1;32m    736\u001b[0m                 \u001b[0;32mbreak\u001b[0m\u001b[0;34m\u001b[0m\u001b[0;34m\u001b[0m\u001b[0m\n",
            "\u001b[0;31mKeyboardInterrupt\u001b[0m: "
          ]
        }
      ]
    },
    {
      "cell_type": "code",
      "metadata": {
        "id": "2DkvzbfzjRWx",
        "outputId": "d61364c6-9239-41e9-b55a-88aaa70992d7",
        "colab": {
          "base_uri": "https://localhost:8080/",
          "height": 850
        }
      },
      "source": [
        "import random \n",
        "\n",
        "word_list = [\"eevee\", \"flareon\", \"jolteon\", \"vaporeon\", \"umbreon\", \"espeon\", \"leafeon\", \"glaceon\", \"sylveon\"]\n",
        "the_word = random.choice(word_list)\n",
        "\n",
        "def choose_word():\n",
        "  return the_word\n",
        "\n",
        "print(\"hello and welcome to the hangman game! You're allowed 6 incorrect guesses before you lose the game! Goodluck!! \")\n",
        "\n",
        "blank_list = [choose_word()]\n",
        "length = len(choose_word())\n",
        "for spaces in range(length):\n",
        "  blank_list.append(\"_\")\n",
        "blank_list.remove(choose_word())\n",
        "\n",
        "\n",
        "print(\"the first word is\", blank_list)\n",
        "\n",
        "def print_body(number):\n",
        "  if number == 1:\n",
        "    print(\"you have 5 body parts left\")\n",
        "    print(\"  (X)  \")\n",
        "  if number == 2:\n",
        "    print(\"you have 4 body parts left\")\n",
        "    print(\"  (X)  \")\n",
        "    print(\"   |   \")\n",
        "    print(\"   |   \")\n",
        "  if number == 3:\n",
        "    print(\"you have 3 body parts left\")\n",
        "    print(\"  (X)  \")\n",
        "    print(\"  /|   \")\n",
        "    print(\" / |   \")\n",
        "  if number == 4:\n",
        "    print(\"you have 2 body parts left\")\n",
        "    print(\"  (X)  \")\n",
        "    print(\"  /|\\  \")\n",
        "    print(\" / | \\ \")\n",
        "  if number == 5:\n",
        "    print(\"you have 1 body parts left\")\n",
        "    print(\"  (X)  \")\n",
        "    print(\"  /|\\  \")\n",
        "    print(\" / | \\ \")\n",
        "    print(\"  /    \")\n",
        "    print(\" /     \")\n",
        "  if number == 6:\n",
        "    print(\"you have no body parts left\")\n",
        "    print(\"  (X)  \")\n",
        "    print(\"  /|\\  \")\n",
        "    print(\" / | \\ \")\n",
        "    print(\"  / \\  \")\n",
        "    print(\" /   \\ \")\n",
        "  return number\n",
        "\n",
        "number = 0\n",
        "word_list = list(choose_word())\n",
        "\n",
        "while print_body(number) != 6:\n",
        "  letter_guess = input(\"enter a letter: \").lower()\n",
        "  placement = []\n",
        "  guess = letter_guess\n",
        "  for x in range(len(word_list)):\n",
        "    if word_list[x] == guess:\n",
        "      placement.append(x)\n",
        "  for x in placement:\n",
        "    blank_list[x] = guess\n",
        "\n",
        "  if letter_guess in word_list:\n",
        "    position_of_letter = word_list.index(letter_guess)\n",
        "    blank_list[position_of_letter] = letter_guess\n",
        "    stringBlanks = ''                           \n",
        "    stringBlanks = stringBlanks.join(blank_list)\n",
        "    print(stringBlanks)\n",
        "\n",
        "  if not letter_guess in word_list:\n",
        "    print(\"that letter isn't in the word.\")\n",
        "    number = number + 1 \n",
        "\n",
        "  if stringBlanks == the_word:\n",
        "    print(\"you have won!\")\n",
        "    break\n",
        "  \n",
        "if number == 6:\n",
        "  print(\"you have lost\")"
      ],
      "execution_count": 20,
      "outputs": [
        {
          "output_type": "stream",
          "text": [
            "hello and welcome to the hangman game! You're allowed 6 incorrect guesses before you lose the game! Goodluck!! \n",
            "the first word is ['_', '_', '_', '_', '_', '_', '_']\n",
            "enter a letter: p\n",
            "that letter isn't in the word.\n",
            "you have 5 body parts left\n",
            "  (X)  \n",
            "enter a letter: r\n",
            "___r___\n",
            "you have 5 body parts left\n",
            "  (X)  \n",
            "enter a letter: v\n",
            "that letter isn't in the word.\n",
            "you have 4 body parts left\n",
            "  (X)  \n",
            "   |   \n",
            "   |   \n",
            "enter a letter: f\n",
            "f__r___\n",
            "you have 4 body parts left\n",
            "  (X)  \n",
            "   |   \n",
            "   |   \n",
            "enter a letter: l\n",
            "fl_r___\n",
            "you have 4 body parts left\n",
            "  (X)  \n",
            "   |   \n",
            "   |   \n",
            "enter a letter: a\n",
            "flar___\n",
            "you have 4 body parts left\n",
            "  (X)  \n",
            "   |   \n",
            "   |   \n",
            "enter a letter: e\n",
            "flare__\n",
            "you have 4 body parts left\n",
            "  (X)  \n",
            "   |   \n",
            "   |   \n",
            "enter a letter: o\n",
            "flareo_\n",
            "you have 4 body parts left\n",
            "  (X)  \n",
            "   |   \n",
            "   |   \n",
            "enter a letter: n\n",
            "flareon\n",
            "you have won!\n"
          ],
          "name": "stdout"
        }
      ]
    },
    {
      "cell_type": "code",
      "metadata": {
        "id": "J6d9VoppkVC0",
        "outputId": "5df2946d-11bf-476e-80ee-27d0c949023c",
        "colab": {
          "base_uri": "https://localhost:8080/",
          "height": 34
        }
      },
      "source": [
        "print(stringBlanks)"
      ],
      "execution_count": 11,
      "outputs": [
        {
          "output_type": "stream",
          "text": [
            "espeon\n"
          ],
          "name": "stdout"
        }
      ]
    },
    {
      "cell_type": "code",
      "metadata": {
        "id": "RItyUOFXkaSR",
        "outputId": "6cc2633d-54b7-4316-a1d3-b4bce721575e",
        "colab": {
          "base_uri": "https://localhost:8080/",
          "height": 34
        }
      },
      "source": [
        "print(the_word)"
      ],
      "execution_count": 12,
      "outputs": [
        {
          "output_type": "stream",
          "text": [
            "espeon\n"
          ],
          "name": "stdout"
        }
      ]
    }
  ]
}