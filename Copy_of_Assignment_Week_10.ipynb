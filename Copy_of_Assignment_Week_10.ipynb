{
  "nbformat": 4,
  "nbformat_minor": 0,
  "metadata": {
    "colab": {
      "name": "Copy of Assignment Week 10.ipynb",
      "provenance": [],
      "include_colab_link": true
    },
    "kernelspec": {
      "name": "python3",
      "display_name": "Python 3"
    }
  },
  "cells": [
    {
      "cell_type": "markdown",
      "metadata": {
        "id": "view-in-github",
        "colab_type": "text"
      },
      "source": [
        "<a href=\"https://colab.research.google.com/github/jessiemerkel/python/blob/master/Copy_of_Assignment_Week_10.ipynb\" target=\"_parent\"><img src=\"https://colab.research.google.com/assets/colab-badge.svg\" alt=\"Open In Colab\"/></a>"
      ]
    },
    {
      "cell_type": "markdown",
      "metadata": {
        "id": "3s6mU2pbouTC"
      },
      "source": [
        "**FUN WITH TEXT FILES**\n",
        "\n",
        "In the worksheet this week, we had a bunch of examples of working with text in an external file. In the assignment, we will build on the examples in the Worksheet. \n",
        "\n",
        "You can find the worksheet here: https://github.com/mlepinski/Python-Worksheets/blob/master/Week_10_Worksheet.ipynb\n",
        "\n",
        "1) Write a function, **count_lines** that takes in a file name as input to the function. (That is, as a parameter to the function, you don't want someone to have to type a URL at the keyboard). You function should loop through the lines in the file and count how many lines there are. \n",
        "\n",
        "If you write your function correctly, the following test code should work:"
      ]
    },
    {
      "cell_type": "code",
      "metadata": {
        "id": "XB2Sfz41osfq"
      },
      "source": [
        "import urllib.request\n",
        "\n",
        "def count_lines(file):\n",
        "  my_file = urllib.request.urlopen(file_name1)\n",
        "  count = 0 \n",
        "  for line in my_file:\n",
        "    line = line.decode(\"utf-8\")\n",
        "    count = count + 1\n",
        "  return count"
      ],
      "execution_count": null,
      "outputs": []
    },
    {
      "cell_type": "code",
      "metadata": {
        "id": "R7NCN2YIFmBs",
        "outputId": "892c0864-bef8-4c50-879d-7399a9a86d8b",
        "colab": {
          "base_uri": "https://localhost:8080/"
        }
      },
      "source": [
        "file_name1 = \"https://raw.githubusercontent.com/mlepinski/Python-Worksheets/master/Sonnets.txt\"\n",
        "answer1 = count_lines(file_name1)\n",
        "\n",
        "file_name2 = file_name1 = \"https://raw.githubusercontent.com/mlepinski/Python-Worksheets/master/coolWords.txt\"\n",
        "answer2 = count_lines(file_name2)\n",
        "\n",
        "print(\"First file number of lines:\" , answer1)\n",
        "print(\"Second file number of lines:\" , answer2)"
      ],
      "execution_count": null,
      "outputs": [
        {
          "output_type": "stream",
          "text": [
            "First file number of lines: 2617\n",
            "Second file number of lines: 718\n"
          ],
          "name": "stdout"
        }
      ]
    },
    {
      "cell_type": "markdown",
      "metadata": {
        "id": "-UbHZq45q1gy"
      },
      "source": [
        "2) Write a function, **lines_with_word** that takes two as input both a file name and a word and counts how many lines in the file contain the word. \n",
        "\n",
        "Note: If the word is \"war\" it is perfectly fine (as in the Worksheet) to count lines with \"warm\" or \"warning\" as long as the letters \"war\" are somewhere on the line.\n",
        "\n",
        "Here is some test code: \n"
      ]
    },
    {
      "cell_type": "code",
      "metadata": {
        "id": "v7IRbJ59GPqw"
      },
      "source": [
        "import urllib.request\n",
        "\n",
        "def lines_with_word(file_name, word):\n",
        "  file1 = urllib.request.urlopen(file_name)\n",
        "  count = 0 \n",
        "  for line in file1:\n",
        "    line = line.decode(\"utf-8\")\n",
        "    if word in line:\n",
        "      count = count + 1\n",
        "  return count"
      ],
      "execution_count": null,
      "outputs": []
    },
    {
      "cell_type": "code",
      "metadata": {
        "id": "FMDKgKu1rR3w",
        "outputId": "40711dab-2870-4c98-cc12-17c0676f8596",
        "colab": {
          "base_uri": "https://localhost:8080/"
        }
      },
      "source": [
        "file_name = \"https://raw.githubusercontent.com/mlepinski/Python-Worksheets/master/Sonnets.txt\"\n",
        "answer1 = lines_with_word(file_name, \"monuments\")\n",
        "\n",
        "print(\"monuments appears in \", answer1, \"lines\")\n",
        "\n",
        "answer2 = lines_with_word(file_name, \"Shall\")\n",
        "\n",
        "print(\"Shall appears in \", answer2, \"lines\")"
      ],
      "execution_count": null,
      "outputs": [
        {
          "output_type": "stream",
          "text": [
            "monuments appears in  1 lines\n",
            "Shall appears in  10 lines\n"
          ],
          "name": "stdout"
        }
      ]
    },
    {
      "cell_type": "markdown",
      "metadata": {
        "id": "zeI-gGmMrh5c"
      },
      "source": [
        "3) Modify your previous function **lines_with_word** so that it converts the entire line to lowercase before looking for the given word. (This way, if the word is \"shall\" and the line contains \"Shall\", it will still get counted.)\n",
        "\n",
        "Note: Your new function and your old function should give different answers with the input \"shall\" because sometimes \"shall\" is capitolized (\"Shall\") in the file. "
      ]
    },
    {
      "cell_type": "code",
      "metadata": {
        "id": "cCFeEITyU-J0",
        "outputId": "77f8835e-4ac5-451c-eb94-80f0a3cc7036",
        "colab": {
          "base_uri": "https://localhost:8080/"
        }
      },
      "source": [
        "import urllib.request\n",
        "\n",
        "def lines_with_word(file_name, word):\n",
        "  file1 = urllib.request.urlopen(file_name)\n",
        "  count = 0 \n",
        "  for line in file1:\n",
        "    line = line.decode(\"utf-8\").lower()\n",
        "    if word in line:\n",
        "      count = count + 1\n",
        "  return count\n",
        "\n",
        "file_name = \"https://raw.githubusercontent.com/mlepinski/Python-Worksheets/master/Sonnets.txt\"\n",
        "lines_with_word(file_name, \"shall\")"
      ],
      "execution_count": null,
      "outputs": [
        {
          "output_type": "execute_result",
          "data": {
            "text/plain": [
              "59"
            ]
          },
          "metadata": {
            "tags": []
          },
          "execution_count": 13
        }
      ]
    },
    {
      "cell_type": "markdown",
      "metadata": {
        "id": "1Mor-eu6sHo-"
      },
      "source": [
        "4) Write a function **word_count** that takes as input a file name and a word and returns how many times the word appears in the file. \n",
        "\n",
        "Your function is counting occurances of the word and not lines. Also, for this problem please match the word exactly (so if you are looking for \"war\", don't count \"warm\" or \"warning\"). \n",
        "\n",
        "Also, as in question 3, your function should match regardless of whether the word in the file is upper case or lower case.\n",
        "\n",
        "Here is some example code."
      ]
    },
    {
      "cell_type": "code",
      "metadata": {
        "id": "aQwYXcKthF-_"
      },
      "source": [
        "import urllib.request\n",
        "\n",
        "def word_count(file_name, word):\n",
        "  file1 = urllib.request.urlopen(file_name)\n",
        "  count = 0 \n",
        "  long_string = file1.read().lower()\n",
        "  long_string = long_string.decode(\"utf-8\")\n",
        "  long_string = long_string.lower()\n",
        "  no_line_breaks = long_string.replace(\"\\n\", \" \")\n",
        "  list_of_words = no_line_breaks.split()\n",
        "  for the_word in list_of_words:\n",
        "    if the_word == word:\n",
        "      count = count + 1\n",
        "  return count"
      ],
      "execution_count": 23,
      "outputs": []
    },
    {
      "cell_type": "code",
      "metadata": {
        "id": "Gx42q67ysHF0",
        "outputId": "07537060-f33e-40fb-a6a4-5340412ca3b6",
        "colab": {
          "base_uri": "https://localhost:8080/"
        }
      },
      "source": [
        "file_name = \"https://raw.githubusercontent.com/mlepinski/Python-Worksheets/master/Sonnets.txt\"\n",
        "answer1 = word_count(file_name, \"monuments\")\n",
        "\n",
        "print(\"monuments appears \", answer1, \"times\")\n",
        "\n",
        "answer2 = word_count(file_name, \"war\")\n",
        "\n",
        "print(\"war appears\", answer2, \"times\")\n",
        "\n",
        "file_name = \"https://raw.githubusercontent.com/mlepinski/Python-Worksheets/master/Sonnets.txt\"\n",
        "answer1 = word_count(file_name, \"memory\")\n",
        "\n",
        "print(\"memory appears \", answer1, \"times\")\n",
        "\n",
        "answer2 = word_count(file_name, \"fuel\")\n",
        "\n",
        "print(\"fuel appears\", answer2, \"times\")"
      ],
      "execution_count": 24,
      "outputs": [
        {
          "output_type": "stream",
          "text": [
            "monuments appears  1 times\n",
            "war appears 6 times\n",
            "memory appears  3 times\n",
            "fuel appears 0 times\n"
          ],
          "name": "stdout"
        }
      ]
    },
    {
      "cell_type": "markdown",
      "metadata": {
        "id": "h1g7_zq0sjCN"
      },
      "source": [
        "5) It is probably the case that your function in number 4 doesn't handle punctuation very well. \n",
        "\n",
        "If you are looking for \"warm\" and you find \"warm,\" you ideally want \"warm,\" to be counted even though there is a comma present. \n",
        "\n",
        "Modify your **word_count** function so that you remove punctuation like commas, periods, and semi-colons from the file before you go and count the words. \n",
        "\n",
        "If you do this correctly, your new function should give you different answers for words like \"memory\" and \"fuel\" which appear in the file attached to puncuation marks. "
      ]
    },
    {
      "cell_type": "code",
      "metadata": {
        "id": "cTeso4Nbr8yI"
      },
      "source": [
        "import urllib.request\n",
        "\n",
        "def word_count(file_name, word):\n",
        "  file1 = urllib.request.urlopen(file_name)\n",
        "  count = 0 \n",
        "  long_string = file1.read().lower()\n",
        "  long_string = long_string.decode(\"utf-8\")\n",
        "  long_string = long_string.lower()\n",
        "  no_line_breaks = long_string.replace(\"\\n\", \" \")\n",
        "  \n",
        "  no_comma = no_line_breaks.replace(\",\", \" \")\n",
        "  no_period = no_comma.replace(\".\", \" \")\n",
        "  no_semicolon = no_period.replace(\";\", \" \")\n",
        "\n",
        "  list_words = no_semicolon.split()\n",
        "\n",
        "  for the_word in list_words:\n",
        "    if the_word == word:\n",
        "      count = count + 1\n",
        "  return count"
      ],
      "execution_count": 21,
      "outputs": []
    },
    {
      "cell_type": "code",
      "metadata": {
        "id": "Y7NZ1bFKsD2e",
        "outputId": "721f097a-b2fa-4f7c-a335-11495e3e337b",
        "colab": {
          "base_uri": "https://localhost:8080/"
        }
      },
      "source": [
        "file_name = \"https://raw.githubusercontent.com/mlepinski/Python-Worksheets/master/Sonnets.txt\"\n",
        "answer1 = word_count(file_name, \"memory\")\n",
        "\n",
        "print(\"memory appears \", answer1, \"times\")\n",
        "\n",
        "answer2 = word_count(file_name, \"fuel\")\n",
        "\n",
        "print(\"fuel appears\", answer2, \"times\")"
      ],
      "execution_count": 22,
      "outputs": [
        {
          "output_type": "stream",
          "text": [
            "memory appears  7 times\n",
            "fuel appears 1 times\n"
          ],
          "name": "stdout"
        }
      ]
    },
    {
      "cell_type": "markdown",
      "metadata": {
        "id": "Hexbcc9qsxB8"
      },
      "source": [
        "6) Write a function **word_frequency** that takes in a file name and a file_name and a word as input to the function and returns what percentage of the words in the file match a particular word. \n",
        "\n",
        "That is, you should count the total number of words and divide your word count by the total to get a percentage frequency. This will tell you how often the word appears and could allow you to compare frequencies across files with different lengths. \n",
        "\n",
        "Note: An excellent way to do this is to have your **word_frequency** function make a call to your **word_count** function from the previous problem. \n",
        "\n",
        "You don't have to do this, but now that you have a **word_frequency** function it would be fun to grab another text file from somewhere (it could be something that you have written or something from project Guttenberg) and stick it in your Github. Then use your **word_frequency** function to see if there are certain words (e.g. \"thee\" or maybe even \"shall\") that are used more often by Shakespeare in his sonnets than in the other text file that you found."
      ]
    },
    {
      "cell_type": "code",
      "metadata": {
        "id": "R0CPjNjwvw-b"
      },
      "source": [
        "def word_frequency(file_name, word):\n",
        "  file1 = urllib.request.urlopen(file_name)\n",
        "  count = 0 \n",
        "  long_string = file1.read().lower()\n",
        "  long_string = long_string.decode(\"utf-8\")\n",
        "  long_string = long_string.lower()\n",
        "  no_line_breaks = long_string.replace(\"\\n\", \" \")\n",
        "  \n",
        "  no_comma = no_line_breaks.replace(\",\", \" \")\n",
        "  no_period = no_comma.replace(\".\", \" \")\n",
        "  no_semicolon = no_period.replace(\";\", \" \")\n",
        "\n",
        "  list_words = no_semicolon.split()\n",
        "  for all_words in list_words:\n",
        "    count = count + 1\n",
        "  percentage = word_count(file_name, word) / count\n",
        "  percent = percentage * 100\n",
        "  return percent"
      ],
      "execution_count": 32,
      "outputs": []
    },
    {
      "cell_type": "code",
      "metadata": {
        "id": "d3XYCg3LxqFd",
        "outputId": "28d00f3e-a445-42ad-8d30-1bf81bb533fb",
        "colab": {
          "base_uri": "https://localhost:8080/"
        }
      },
      "source": [
        "file_name = \"https://raw.githubusercontent.com/mlepinski/Python-Worksheets/master/Sonnets.txt\"\n",
        "answer1 = word_frequency(file_name, \"memory\")\n",
        "\n",
        "print(\"memory appears \", answer1, \"times\")\n",
        "\n",
        "answer2 = word_frequency(file_name, \"beguile\")\n",
        "\n",
        "print(\"beguile appears\", answer2, \"times\")"
      ],
      "execution_count": 39,
      "outputs": [
        {
          "output_type": "stream",
          "text": [
            "memory appears  0.016964487672472293 times\n",
            "beguile appears 0.005654829224157431 times\n"
          ],
          "name": "stdout"
        }
      ]
    }
  ]
}