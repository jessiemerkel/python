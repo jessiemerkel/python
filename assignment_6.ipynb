{
  "nbformat": 4,
  "nbformat_minor": 0,
  "metadata": {
    "colab": {
      "name": "assignment 6",
      "provenance": [],
      "authorship_tag": "ABX9TyOcRp8rqplBv29WrtdfuS+/",
      "include_colab_link": true
    },
    "kernelspec": {
      "name": "python3",
      "display_name": "Python 3"
    }
  },
  "cells": [
    {
      "cell_type": "markdown",
      "metadata": {
        "id": "view-in-github",
        "colab_type": "text"
      },
      "source": [
        "<a href=\"https://colab.research.google.com/github/jessiemerkel/python/blob/master/assignment_6.ipynb\" target=\"_parent\"><img src=\"https://colab.research.google.com/assets/colab-badge.svg\" alt=\"Open In Colab\"/></a>"
      ]
    },
    {
      "cell_type": "markdown",
      "metadata": {
        "id": "hdgVRkCpAISE"
      },
      "source": [
        "0) Create a list that contains \"Hello\" and \"World\". Write a program that prints out this list.\n",
        "\n",
        "1) Create a program that starts with an empty list and then uses a while loop to repeatedly ask the user to enter the name of a food. The program should add each food to the list. The program should stop when the user enters \"stop\".\n",
        "\n",
        "Note: There is an example similar to this in the worksheet.\n",
        "\n",
        "2) Use the list that you created in Problem 2. Write additional Python instructions that ask the user to enter a food to delete from the list. You should then delete the requested food from the list and print the list.\n",
        "\n",
        "3) Use the list that you created in Problem 2. Write a loop that goes through every element of the list checks whether the food is \"olives\" (or \"olive\") and prints out the food name provided that it is not \"olives\". (I despise \"olives\", wouldn't want to print out that stuff!)\n",
        "\n",
        "To test out your program, you may need to re-run the code from Problem 2 to create a list that contains \"olives\" so you can verify that your code for Problem 4 correctly omits \"olives\" when printing the list."
      ]
    },
    {
      "cell_type": "code",
      "metadata": {
        "id": "8ketqOnhAHG7",
        "outputId": "d595e934-528a-4322-a9d2-7e0c63b79149",
        "colab": {
          "base_uri": "https://localhost:8080/",
          "height": 34
        }
      },
      "source": [
        "word_one = [\"Hello\"]\n",
        "word_two = [\"World\"]\n",
        "\n",
        "print(word_one + word_two)"
      ],
      "execution_count": 1,
      "outputs": [
        {
          "output_type": "stream",
          "text": [
            "['Hello', 'World']\n"
          ],
          "name": "stdout"
        }
      ]
    },
    {
      "cell_type": "code",
      "metadata": {
        "id": "LCe3jXn2h3YA",
        "outputId": "7be84752-7c29-4d00-d72d-a0d85ac556c0",
        "colab": {
          "base_uri": "https://localhost:8080/",
          "height": 170
        }
      },
      "source": [
        "food_list = []\n",
        "\n",
        "create_list = input(\"Enter a food to add to the list, or enter 'stop' to stop: \")\n",
        "while create_list != 'stop':\n",
        "  food_list.append(create_list)\n",
        "  create_list = input(\"Enter a food to add to the list, or enter 'stop' to stop: \") \n",
        "print(\"your list so far is\", food_list)\n",
        "less_food = input(\"Enter a food to take away from the list, or enter 'stop' to stop: \")\n",
        "while less_food != 'stop':\n",
        "  food_list.remove(less_food)\n",
        "  less_food = input(\"Enter a food to take away from the list, or enter 'stop' to stop: \")\n",
        "\n",
        "print(\"The final list is: \", food_list)"
      ],
      "execution_count": 27,
      "outputs": [
        {
          "output_type": "stream",
          "text": [
            "Enter a food to add to the list, or enter 'stop' to stop: banana\n",
            "Enter a food to add to the list, or enter 'stop' to stop: grapes\n",
            "Enter a food to add to the list, or enter 'stop' to stop: potato\n",
            "Enter a food to add to the list, or enter 'stop' to stop: stop\n",
            "your list so far is ['banana', 'grapes', 'potato']\n",
            "Enter a food to take away from the list, or enter 'stop' to stop: banana\n",
            "Enter a food to take away from the list, or enter 'stop' to stop: potato\n",
            "Enter a food to take away from the list, or enter 'stop' to stop: stop\n",
            "The final list is:  ['grapes']\n"
          ],
          "name": "stdout"
        }
      ]
    },
    {
      "cell_type": "code",
      "metadata": {
        "id": "e_QlW5QVkvXJ",
        "outputId": "b569dfdd-7414-4c8e-ab0f-0fe0a8fc91fa",
        "colab": {
          "base_uri": "https://localhost:8080/",
          "height": 170
        }
      },
      "source": [
        "food_list = []\n",
        "\n",
        "create_list = input(\"Enter a food to add to the list, or enter 'stop' to stop: \")\n",
        "while create_list != 'stop':\n",
        "  food_list.append(create_list)\n",
        "  create_list = input(\"Enter a food to add to the list, or enter 'stop' to stop: \") \n",
        "print(\"your list so far is\", food_list)\n",
        "less_food = input(\"Enter a food to take away from the list, or enter 'stop' to stop: \")\n",
        "while less_food != 'stop':\n",
        "  food_list.remove(less_food)\n",
        "  less_food = input(\"Enter a food to take away from the list, or enter 'stop' to stop: \")\n",
        "for less_food in (food_list):\n",
        "  if less_food == 'olive':\n",
        "    food_list.remove('olive') \n",
        "    print(\"The final list is: \", food_list)"
      ],
      "execution_count": 26,
      "outputs": [
        {
          "output_type": "stream",
          "text": [
            "Enter a food to add to the list, or enter 'stop' to stop: banana\n",
            "Enter a food to add to the list, or enter 'stop' to stop: strawberryy\n",
            "Enter a food to add to the list, or enter 'stop' to stop: grape\n",
            "Enter a food to add to the list, or enter 'stop' to stop: olive\n",
            "Enter a food to add to the list, or enter 'stop' to stop: stop\n",
            "your list so far is ['banana', 'strawberryy', 'grape', 'olive']\n",
            "Enter a food to take away from the list, or enter 'stop' to stop: grape\n",
            "Enter a food to take away from the list, or enter 'stop' to stop: stop\n",
            "The final list is:  ['banana', 'strawberryy']\n"
          ],
          "name": "stdout"
        }
      ]
    }
  ]
}