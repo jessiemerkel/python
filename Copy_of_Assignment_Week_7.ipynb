{
  "nbformat": 4,
  "nbformat_minor": 0,
  "metadata": {
    "colab": {
      "name": "Copy of Assignment Week 7.ipynb",
      "provenance": [],
      "collapsed_sections": [],
      "include_colab_link": true
    },
    "kernelspec": {
      "name": "python3",
      "display_name": "Python 3"
    }
  },
  "cells": [
    {
      "cell_type": "markdown",
      "metadata": {
        "id": "view-in-github",
        "colab_type": "text"
      },
      "source": [
        "<a href=\"https://colab.research.google.com/github/jessiemerkel/python/blob/master/Copy_of_Assignment_Week_7.ipynb\" target=\"_parent\"><img src=\"https://colab.research.google.com/assets/colab-badge.svg\" alt=\"Open In Colab\"/></a>"
      ]
    },
    {
      "cell_type": "markdown",
      "metadata": {
        "id": "ssVL6QEUKk_L"
      },
      "source": [
        "# WEEK 7 ASSIGNMENT : Working with Strings\n",
        "\n",
        "----------------\n",
        "\n",
        "You are encouraged to create a new blank workbook for your solutions. You should then save your solutions into GitHub.\n",
        "\n",
        "**0)** Write a program that prints the following by using the VARIABLE.upper() and VARIABLE.lower() commands:\n",
        "\"Hello World\"\n",
        "\"HELLO WORLD\"\n",
        "\"hello world\"\n",
        "\n",
        "**1)** Define a python function, hasVowels(str), that takes in a string as input to the function and checks to see if the string contains any vowels. Your function should return True if the string has a vowel and False if the string does not have a vowel. \n",
        "\n",
        "If your **hasVowels** function is written correctly then the following test code should work:\n",
        " "
      ]
    },
    {
      "cell_type": "code",
      "metadata": {
        "id": "NSua5PlT_zE8",
        "outputId": "51518e65-999d-4172-c147-d035cc93dcc6",
        "colab": {
          "base_uri": "https://localhost:8080/"
        }
      },
      "source": [
        "word1 = \"Hello World\"\n",
        "word1 = word1.upper()\n",
        "print(word1)\n",
        "\n",
        "word2 = \"HELLO WORLD\"\n",
        "word2 = word2.upper()\n",
        "print(word2)\n",
        "\n",
        "word3 = \"hello world\"\n",
        "word3 = word3.upper()\n",
        "print(word3)\n",
        "\n",
        "word1 = \"Hello World\"\n",
        "word1 = word1.lower()\n",
        "print(word1)\n",
        "\n",
        "word2 = \"HELLO WORLD\"\n",
        "word2 = word2.lower()\n",
        "print(word2)\n",
        "\n",
        "word3 = \"hello world\"\n",
        "word3 = word3.lower()\n",
        "print(word3)"
      ],
      "execution_count": null,
      "outputs": [
        {
          "output_type": "stream",
          "text": [
            "HELLO WORLD\n",
            "HELLO WORLD\n",
            "HELLO WORLD\n",
            "hello world\n",
            "hello world\n",
            "hello world\n"
          ],
          "name": "stdout"
        }
      ]
    },
    {
      "cell_type": "code",
      "metadata": {
        "id": "YhZHNlDn5cUv",
        "outputId": "511de709-5c9a-4fbe-fa1d-3cfac8057163",
        "colab": {
          "base_uri": "https://localhost:8080/",
          "height": 52
        }
      },
      "source": [
        "def hasVowels(x):\n",
        "  x = x.lower() \n",
        "  if \"a\" in x:\n",
        "    return True\n",
        "  if \"e\" in x:\n",
        "    return True\n",
        "  if \"i\" in x:\n",
        "    return True\n",
        "  if \"o\" in x:\n",
        "    return True\n",
        "  if \"u\" in x:\n",
        "    return True\n",
        "  else:\n",
        "    return False \n",
        "\n",
        "x = input(\"enter a word with a vowel: \")\n",
        "print(hasVowels(x)) "
      ],
      "execution_count": null,
      "outputs": [
        {
          "output_type": "stream",
          "text": [
            "enter a word with a vowel: ghj\n",
            "False\n"
          ],
          "name": "stdout"
        }
      ]
    },
    {
      "cell_type": "code",
      "metadata": {
        "id": "2udnQYLbKddY",
        "outputId": "22c72b07-6b3a-422f-8c9e-a3b82d4848ce",
        "colab": {
          "base_uri": "https://localhost:8080/"
        }
      },
      "source": [
        "word = \"berry\"\n",
        "not_word = \"fghjk\"\n",
        "\n",
        "if hasVowels(word):\n",
        "  print(\"The string\", word, \"has at least one vowel\")\n",
        "else:\n",
        "  print(\"The string\", word, \"does not have any vowels\")\n",
        "\n",
        "if hasVowels(not_word):\n",
        "  print(\"The string\", not_word, \"has at least one vowel\")\n",
        "else:\n",
        "  print(\"The string\", not_word, \"does not have any vowels\")"
      ],
      "execution_count": null,
      "outputs": [
        {
          "output_type": "stream",
          "text": [
            "The string berry has at least one vowel\n",
            "The string fghjk does not have any vowels\n"
          ],
          "name": "stdout"
        }
      ]
    },
    {
      "cell_type": "markdown",
      "metadata": {
        "id": "wMs6Ap_qMJDo"
      },
      "source": [
        "**2)** Write a Python program that makes use of your existing **hasVowels** function to do the following task. Repeatedly ask the user to enter a word with vowels from the keyboard, you should stop when the user correctly enters a word with vowels. \n",
        "\n",
        "For example, if the user first types \"fhbjk\" and then types \"mbbccv\" you should keep asking the user to try again until they finally successfully enter something that has at least one vowel."
      ]
    },
    {
      "cell_type": "code",
      "metadata": {
        "id": "O8u3osDW2oVn",
        "outputId": "2062c311-db92-44db-ec0c-de6ff0bf3125",
        "colab": {
          "base_uri": "https://localhost:8080/"
        }
      },
      "source": [
        "vowel_word = input(\"Please enter a word with vowels: \")\n",
        "\n",
        "if hasVowels(vowel_word):\n",
        "  print(hasVowels(vowel_word))\n",
        "else: \n",
        "  while vowel_word != hasVowels(vowel_word):\n",
        "    print(input(\"Please enter a word with vowels: \"))\n",
        "    break"
      ],
      "execution_count": null,
      "outputs": [
        {
          "output_type": "stream",
          "text": [
            "Please enter a word with vowels: bcf\n",
            "Please enter a word with vowels: abxc\n",
            "abxc\n"
          ],
          "name": "stdout"
        }
      ]
    },
    {
      "cell_type": "markdown",
      "metadata": {
        "id": "3zKsF4QiMxTu"
      },
      "source": [
        "**3)** Define a Python function called, countVowels(str), that takes in a string as input to the function and returns the number of vowels in the string. \n",
        "\n",
        "You should have a count variable inside the function and then loop through the letters in the string and check each one to see if it is a vowel. \n",
        "\n",
        "If your **countVowels** function is written correctly then the following test code should work.\n",
        "\n"
      ]
    },
    {
      "cell_type": "code",
      "metadata": {
        "id": "FyDudowxVfDp",
        "outputId": "da105a60-f88b-4090-a328-28a27b2353d7",
        "colab": {
          "base_uri": "https://localhost:8080/",
          "height": 51
        }
      },
      "source": [
        "def countVowels(z):\n",
        "  z = z.lower()\n",
        "  counter = 0\n",
        "  Vowels = [\"a\", \"e\", \"i\", \"o\", \"u\"]\n",
        "  for v in (z):\n",
        "    if v in Vowels:\n",
        "      counter = counter + 1\n",
        "  return counter\n",
        "\n",
        "z = input(\"enter a word with vowels: \")\n",
        "print(countVowels(z))"
      ],
      "execution_count": 11,
      "outputs": [
        {
          "output_type": "stream",
          "text": [
            "enter a word with vowels: sgt\n",
            "0\n"
          ],
          "name": "stdout"
        }
      ]
    },
    {
      "cell_type": "code",
      "metadata": {
        "id": "JTWk3nZWNSTO",
        "outputId": "4f030550-c9b5-4d93-f3f9-23a762d1f140",
        "colab": {
          "base_uri": "https://localhost:8080/"
        }
      },
      "source": [
        "name1 = \"matthew\"\n",
        "name2 = \"lepinski\"\n",
        "\n",
        "count1 = countVowels(name1)\n",
        "count2 = countVowels(name2)\n",
        "\n",
        "print(name1, \"has\", count1, \"vowels in it\")\n",
        "print(name2, \"has\", count2, \"vowels in it\")"
      ],
      "execution_count": null,
      "outputs": [
        {
          "output_type": "stream",
          "text": [
            "matthew has 2 vowels in it\n",
            "lepinski has 3 vowels in it\n"
          ],
          "name": "stdout"
        }
      ]
    },
    {
      "cell_type": "markdown",
      "metadata": {
        "id": "6JyIDGJyNmJF"
      },
      "source": [
        "**4)** Write a Python program that starts with an empty list and then asks the user to enter a word. The program should add the word to the list and then ask for a new word (and add the new word to the list) and continue like this until the user enters \"stop\" or \"STOP\" or \"STop\" or any variation like \"sTOP\" or \"stoP\".\n",
        "\n",
        "Note: We did something similar to this last week, you might want to look at the Week 6 assignment or worksheet for inspiration"
      ]
    },
    {
      "cell_type": "code",
      "metadata": {
        "id": "ycKNVRLMiNfd",
        "outputId": "55ee4f48-8938-4456-92af-e9defb225274",
        "colab": {
          "base_uri": "https://localhost:8080/",
          "height": 102
        }
      },
      "source": [
        "word_list = []\n",
        "users_word = input(\"please enter word to add to the word list, to stop adding words, enter 'stop': \").lower()\n",
        "word_list.append(users_word)\n",
        "\n",
        "while not users_word == 'stop':\n",
        "  users_word = input(\"please enter word to add to the word list, to stop adding words, enter 'stop': \").lower()\n",
        "  word_list.append(users_word)\n",
        "if users_word == 'stop':\n",
        "  word_list.remove('stop')\n",
        "print(\"your word list is\", word_list)"
      ],
      "execution_count": 13,
      "outputs": [
        {
          "output_type": "stream",
          "text": [
            "please enter word to add to the word list, to stop adding words, enter 'stop': breakdast\n",
            "please enter word to add to the word list, to stop adding words, enter 'stop': lunhx\n",
            "please enter word to add to the word list, to stop adding words, enter 'stop': dinner\n",
            "please enter word to add to the word list, to stop adding words, enter 'stop': stoP\n",
            "your word list is ['breakdast', 'lunhx', 'dinner']\n"
          ],
          "name": "stdout"
        }
      ]
    },
    {
      "cell_type": "markdown",
      "metadata": {
        "id": "QmWEmSA9OXtN"
      },
      "source": [
        "**5)** Use your **countVowels** funciton from problem 3 and your list of words from problem 4 together to figure out the total number of vowels in all of the words that the user enters. \n",
        "\n",
        "Note: Ideally, you should not count the 1 \"o\" in the \"stop\" that they typed at the end"
      ]
    },
    {
      "cell_type": "code",
      "metadata": {
        "id": "sWk1r53F4ALQ",
        "outputId": "858ce618-10b9-43cc-d575-b9e68660ea59",
        "colab": {
          "base_uri": "https://localhost:8080/",
          "height": 102
        }
      },
      "source": [
        "word_list = []         \n",
        "user_word = input(\"enter a word to add to the list, when done enter 'stop': \")\n",
        "user_word = user_word.lower()  \n",
        "vowel_number = 0\n",
        "\n",
        "while not user_word == 'stop':\n",
        "  word_list.append(user_word)         \n",
        "  user_word = input(\"enter a word to add to the list, when done enter 'stop': \")\n",
        "  user_word = user_word.lower()\n",
        "\n",
        "for user_word in word_list:\n",
        "   vowel_number = vowel_number + countVowels(user_word)\n",
        "\n",
        "print(vowel_number)"
      ],
      "execution_count": 3,
      "outputs": [
        {
          "output_type": "stream",
          "text": [
            "enter a word to add to the list, when done enter 'stop': chickn\n",
            "enter a word to add to the list, when done enter 'stop': cow\n",
            "enter a word to add to the list, when done enter 'stop': pig\n",
            "enter a word to add to the list, when done enter 'stop': stop\n",
            "3\n"
          ],
          "name": "stdout"
        }
      ]
    }
  ]
}