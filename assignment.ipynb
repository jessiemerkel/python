{
  "nbformat": 4,
  "nbformat_minor": 0,
  "metadata": {
    "colab": {
      "name": "Untitled0.ipynb",
      "provenance": [],
      "authorship_tag": "ABX9TyOr/rDgUTc67kjCtc+dx8UL",
      "include_colab_link": true
    },
    "kernelspec": {
      "name": "python3",
      "display_name": "Python 3"
    }
  },
  "cells": [
    {
      "cell_type": "markdown",
      "metadata": {
        "id": "view-in-github",
        "colab_type": "text"
      },
      "source": [
        "<a href=\"https://colab.research.google.com/github/jessiemerkel/python/blob/master/assignment.ipynb\" target=\"_parent\"><img src=\"https://colab.research.google.com/assets/colab-badge.svg\" alt=\"Open In Colab\"/></a>"
      ]
    },
    {
      "cell_type": "markdown",
      "metadata": {
        "id": "ZOUjKLTznPdA",
        "colab_type": "text"
      },
      "source": [
        "0) Write a loop that prints \"Hello World\" five times\n",
        "\n",
        "1) Write code that asks the user to enter two numbers, then print out the smaller of the two numbers. (You will need an if statement to figure out which is the smallest)\n",
        "\n",
        "2) Write code that asks the user to enter three numbers, then print out the second largest of the three numbers. (This will require some cleverness with if statements!)\n",
        "\n",
        "3) Write a for loop that looks at the numbers [3, 2, 8, 9, 17, 24] and counts how many of them are even. (You will need a variable to keep count of how many even numbers you have seen. You should increase the variable by one each time the user enters an even number)\n",
        "\n",
        "3) Write a loop that asks the user to enter five numbers and prints out how many of the numbers are even.\n",
        "\n",
        "4) Write a loop that allows the user to keep entering as many numbers as they want to and then when they are done, print out how many of the numbers were even. One way to do this is to tell the user to enter -1 to signal that they are done, and then end when you see a -1.\n",
        "\n",
        "5) Write a number guessing game. You should pick a number (assign it to a varaible in your code) and then repeatedly ask the user to guess the number. Tell the user is their guess is too high or too low, and end when the user correctly guesses your number."
      ]
    },
    {
      "cell_type": "code",
      "metadata": {
        "id": "1Ip0zWyknOWM",
        "colab_type": "code",
        "colab": {
          "base_uri": "https://localhost:8080/",
          "height": 35
        },
        "outputId": "66401679-59b9-4779-e8e1-1998f342429a"
      },
      "source": [
        "\" hello world \" * 5"
      ],
      "execution_count": null,
      "outputs": [
        {
          "output_type": "execute_result",
          "data": {
            "application/vnd.google.colaboratory.intrinsic+json": {
              "type": "string"
            },
            "text/plain": [
              "' hello world  hello world  hello world  hello world  hello world '"
            ]
          },
          "metadata": {
            "tags": []
          },
          "execution_count": 4
        }
      ]
    },
    {
      "cell_type": "code",
      "metadata": {
        "id": "JIcKXhbrxhJc",
        "colab_type": "code",
        "colab": {
          "base_uri": "https://localhost:8080/",
          "height": 69
        },
        "outputId": "61ab196c-4a8c-42d1-ca10-368b86f25cc6"
      },
      "source": [
        "number_1 = input('enter number:')\n",
        "number_2 = input('enter another number:')\n",
        "if number_1 < number_2 :\n",
        "  print(number_1) \n",
        "else :\n",
        "  print(number_2)  \n"
      ],
      "execution_count": null,
      "outputs": [
        {
          "output_type": "stream",
          "text": [
            "enter number:6\n",
            "enter another number:4\n",
            "4\n"
          ],
          "name": "stdout"
        }
      ]
    },
    {
      "cell_type": "code",
      "metadata": {
        "id": "EanKI_qtl5me",
        "colab_type": "code",
        "colab": {
          "base_uri": "https://localhost:8080/",
          "height": 104
        },
        "outputId": "0c799e97-4622-4b18-f5ba-7dc0c435067e"
      },
      "source": [
        "print('the second-largest number is...')\n",
        "uno = int(input('enter a number:'))\n",
        "dos = int(input('enter another number:'))\n",
        "tres = int(input('enter another number:'))\n",
        "if uno < dos and dos < tres:\n",
        "  print(dos)\n",
        "if dos < uno and uno < tres:\n",
        "  print(uno)\n",
        "if uno < tres and tres < dos:\n",
        "  print(tres)\n",
        "if uno > dos and dos > tres:\n",
        "  print(dos)\n",
        "if dos > uno and uno > tres:\n",
        "  print(uno)\n",
        "if uno > tres and tres > dos:\n",
        "  print(tres)\n",
        "  "
      ],
      "execution_count": 39,
      "outputs": [
        {
          "output_type": "stream",
          "text": [
            "the second-largest number is...\n",
            "enter a number:4\n",
            "enter another number:6\n",
            "enter another number:2\n",
            "4\n"
          ],
          "name": "stdout"
        }
      ]
    },
    {
      "cell_type": "code",
      "metadata": {
        "id": "DZ7O0Ms3FlI7",
        "colab_type": "code",
        "colab": {
          "base_uri": "https://localhost:8080/",
          "height": 35
        },
        "outputId": "a69cea94-1440-429e-e1c9-02fae78fb1a0"
      },
      "source": [
        "evenNumber = 0 \n",
        "for toothbrush in [3, 2, 8, 9, 17, 24]:\n",
        "  if is_it_even(toothbrush):\n",
        "    evenNumber = evenNumber + 1\n",
        "print('there are ' + '' + str( evenNumber ) + '' + ' even numbers')"
      ],
      "execution_count": null,
      "outputs": [
        {
          "output_type": "stream",
          "text": [
            "there are 3 even numbers\n"
          ],
          "name": "stdout"
        }
      ]
    },
    {
      "cell_type": "code",
      "metadata": {
        "id": "TUDr19IoHARN",
        "colab_type": "code",
        "colab": {
          "base_uri": "https://localhost:8080/",
          "height": 121
        },
        "outputId": "6d2bafc9-867d-4079-edc5-20e6d0e7c33b"
      },
      "source": [
        "num_1 = int(input('enter number:'))\n",
        "num_2 = int(input('enter another number:'))\n",
        "num_3 = int(input('enter another number:'))\n",
        "num_4 = int(input('enter another number:'))\n",
        "num_5 = int(input('enter another number:'))\n",
        "evenNumber = 0\n",
        "for evens in [num_1, num_2, num_3, num_4, num_5]:\n",
        "  if is_it_even(evens) :\n",
        "    evenNumber = evenNumber + 1\n",
        "print(str(evenNumber) +'' + ' are even numbers.')"
      ],
      "execution_count": 40,
      "outputs": [
        {
          "output_type": "stream",
          "text": [
            "enter number:3\n",
            "enter another number:7\n",
            "enter another number:6\n",
            "enter another number:2\n",
            "enter another number:9\n",
            "2 are even.\n"
          ],
          "name": "stdout"
        }
      ]
    },
    {
      "cell_type": "code",
      "metadata": {
        "id": "WS7Em0z2IsrT",
        "colab_type": "code",
        "colab": {
          "base_uri": "https://localhost:8080/",
          "height": 156
        },
        "outputId": "d6ce47bc-f00f-4a80-af4f-a49e9f632889"
      },
      "source": [
        "evenNumber = 0\n",
        "while True:\n",
        "  foreverNumber = int(input('enter as many numbers as youd like here, to receive result and stop the loop insert -1 '))\n",
        "  if is_it_even(foreverNumber) :\n",
        "      evenNumber = evenNumber + 1\n",
        "  if foreverNumber == -1:\n",
        "      break\n",
        "print(str(evenNumber) + ''+ ' are even.')"
      ],
      "execution_count": 45,
      "outputs": [
        {
          "output_type": "stream",
          "text": [
            "enter as many numbers as youd like here, to receive result and stop the loop insert -1 6\n",
            "enter as many numbers as youd like here, to receive result and stop the loop insert -1 5\n",
            "enter as many numbers as youd like here, to receive result and stop the loop insert -1 8\n",
            "enter as many numbers as youd like here, to receive result and stop the loop insert -1 4\n",
            "enter as many numbers as youd like here, to receive result and stop the loop insert -1 8\n",
            "enter as many numbers as youd like here, to receive result and stop the loop insert -1 8\n",
            "enter as many numbers as youd like here, to receive result and stop the loop insert -1 -1\n",
            "5 is even.\n"
          ],
          "name": "stdout"
        }
      ]
    },
    {
      "cell_type": "code",
      "metadata": {
        "id": "Qhf9uAP5LAmj",
        "colab_type": "code",
        "colab": {
          "base_uri": "https://localhost:8080/",
          "height": 173
        },
        "outputId": "008fd9da-0d2f-4a11-fc40-d333a7c0172b"
      },
      "source": [
        "winnerNumber = 6\n",
        "while True:\n",
        "  print('lets play guess the number.' + '' + ' to stop the game insert -1')\n",
        "  numberOne = int(input('enter a number:'))\n",
        "  if numberOne == winnerNumber :\n",
        "    print('congrats! you win')\n",
        "  if numberOne < winnerNumber:\n",
        "    print('too low')\n",
        "  if numberOne > winnerNumber:\n",
        "    print('too high')\n",
        "    break "
      ],
      "execution_count": 48,
      "outputs": [
        {
          "output_type": "stream",
          "text": [
            "lets play guess the number. to stop the game insert -1\n",
            "enter a number:5\n",
            "too low\n",
            "lets play guess the number. to stop the game insert -1\n",
            "enter a number:6\n",
            "congrats! you win\n",
            "lets play guess the number. to stop the game insert -1\n",
            "enter a number:8\n",
            "too high\n"
          ],
          "name": "stdout"
        }
      ]
    }
  ]
}